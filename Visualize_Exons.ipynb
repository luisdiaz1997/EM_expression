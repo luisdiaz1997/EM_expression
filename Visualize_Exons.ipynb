{
 "cells": [
  {
   "cell_type": "code",
   "execution_count": 1,
   "id": "c1570379",
   "metadata": {},
   "outputs": [],
   "source": [
    "from bioframe import vis\n",
    "import bioframe as bf\n",
    "import pandas as pd\n",
    "import matplotlib.pyplot as plt\n",
    "from glob import glob\n",
    "import numpy as np"
   ]
  },
  {
   "cell_type": "code",
   "execution_count": 2,
   "id": "a6877880",
   "metadata": {},
   "outputs": [],
   "source": [
    "data_path = '/scratch/groups/horence/angelika/EM_expression/data/'\n",
    "processed_path = './processed_files/'"
   ]
  },
  {
   "cell_type": "code",
   "execution_count": 3,
   "id": "296ef464",
   "metadata": {},
   "outputs": [],
   "source": [
    "matrices_paths = glob(processed_path+'E*tsv')"
   ]
  },
  {
   "cell_type": "code",
   "execution_count": 4,
   "id": "4470ed84",
   "metadata": {},
   "outputs": [
    {
     "data": {
      "text/plain": [
       "['./processed_files/ENSG00000122068.13.tsv',\n",
       " './processed_files/ENSG00000274276.4.tsv',\n",
       " './processed_files/ENSG00000241860.7.tsv',\n",
       " './processed_files/ENSG00000129484.14.tsv',\n",
       " './processed_files/ENSG00000225138.8.tsv',\n",
       " './processed_files/ENSG00000228463.10.tsv',\n",
       " './processed_files/ENSG00000180902.18.tsv']"
      ]
     },
     "execution_count": 4,
     "metadata": {},
     "output_type": "execute_result"
    }
   ],
   "source": [
    "matrices_paths"
   ]
  },
  {
   "cell_type": "code",
   "execution_count": 225,
   "id": "4bb1998c",
   "metadata": {},
   "outputs": [],
   "source": [
    "k = 2\n",
    "df = pd.read_csv(matrices_paths[k], sep='\\t')\n",
    "reads_df = pd.read_csv(matrices_paths[k]+'.dread', sep='\\t')\n",
    "name = matrices_paths[k].split('/')[-1][:-4]\n",
    "df.iloc[:,1:] = df.iloc[:,1:]/1000"
   ]
  },
  {
   "cell_type": "code",
   "execution_count": 226,
   "id": "22a6dbc1",
   "metadata": {},
   "outputs": [
    {
     "data": {
      "text/plain": [
       "'ENSG00000241860.7'"
      ]
     },
     "execution_count": 226,
     "metadata": {},
     "output_type": "execute_result"
    }
   ],
   "source": [
    "name"
   ]
  },
  {
   "cell_type": "code",
   "execution_count": 227,
   "id": "45feb512",
   "metadata": {},
   "outputs": [
    {
     "data": {
      "text/html": [
       "<div>\n",
       "<style scoped>\n",
       "    .dataframe tbody tr th:only-of-type {\n",
       "        vertical-align: middle;\n",
       "    }\n",
       "\n",
       "    .dataframe tbody tr th {\n",
       "        vertical-align: top;\n",
       "    }\n",
       "\n",
       "    .dataframe thead th {\n",
       "        text-align: right;\n",
       "    }\n",
       "</style>\n",
       "<table border=\"1\" class=\"dataframe\">\n",
       "  <thead>\n",
       "    <tr style=\"text-align: right;\">\n",
       "      <th></th>\n",
       "      <th>chrom</th>\n",
       "      <th>start</th>\n",
       "      <th>end</th>\n",
       "      <th>cell_0</th>\n",
       "      <th>cell_1</th>\n",
       "      <th>cell_2</th>\n",
       "      <th>cell_3</th>\n",
       "    </tr>\n",
       "  </thead>\n",
       "  <tbody>\n",
       "    <tr>\n",
       "      <th>0</th>\n",
       "      <td>chr1</td>\n",
       "      <td>141474</td>\n",
       "      <td>143011</td>\n",
       "      <td>6</td>\n",
       "      <td>20</td>\n",
       "      <td>80</td>\n",
       "      <td>49</td>\n",
       "    </tr>\n",
       "    <tr>\n",
       "      <th>1</th>\n",
       "      <td>chr1</td>\n",
       "      <td>146386</td>\n",
       "      <td>149707</td>\n",
       "      <td>86</td>\n",
       "      <td>82</td>\n",
       "      <td>58</td>\n",
       "      <td>43</td>\n",
       "    </tr>\n",
       "    <tr>\n",
       "      <th>2</th>\n",
       "      <td>chr1</td>\n",
       "      <td>155767</td>\n",
       "      <td>155831</td>\n",
       "      <td>57</td>\n",
       "      <td>6</td>\n",
       "      <td>13</td>\n",
       "      <td>42</td>\n",
       "    </tr>\n",
       "    <tr>\n",
       "      <th>3</th>\n",
       "      <td>chr1</td>\n",
       "      <td>164263</td>\n",
       "      <td>164791</td>\n",
       "      <td>95</td>\n",
       "      <td>85</td>\n",
       "      <td>28</td>\n",
       "      <td>14</td>\n",
       "    </tr>\n",
       "    <tr>\n",
       "      <th>4</th>\n",
       "      <td>chr1</td>\n",
       "      <td>165491</td>\n",
       "      <td>165942</td>\n",
       "      <td>27</td>\n",
       "      <td>25</td>\n",
       "      <td>54</td>\n",
       "      <td>20</td>\n",
       "    </tr>\n",
       "    <tr>\n",
       "      <th>5</th>\n",
       "      <td>chr1</td>\n",
       "      <td>167129</td>\n",
       "      <td>168165</td>\n",
       "      <td>21</td>\n",
       "      <td>88</td>\n",
       "      <td>31</td>\n",
       "      <td>18</td>\n",
       "    </tr>\n",
       "    <tr>\n",
       "      <th>6</th>\n",
       "      <td>chr1</td>\n",
       "      <td>168610</td>\n",
       "      <td>168767</td>\n",
       "      <td>29</td>\n",
       "      <td>34</td>\n",
       "      <td>49</td>\n",
       "      <td>52</td>\n",
       "    </tr>\n",
       "    <tr>\n",
       "      <th>7</th>\n",
       "      <td>chr1</td>\n",
       "      <td>169049</td>\n",
       "      <td>169264</td>\n",
       "      <td>65</td>\n",
       "      <td>27</td>\n",
       "      <td>87</td>\n",
       "      <td>96</td>\n",
       "    </tr>\n",
       "    <tr>\n",
       "      <th>8</th>\n",
       "      <td>chr1</td>\n",
       "      <td>172557</td>\n",
       "      <td>172688</td>\n",
       "      <td>8</td>\n",
       "      <td>43</td>\n",
       "      <td>78</td>\n",
       "      <td>92</td>\n",
       "    </tr>\n",
       "    <tr>\n",
       "      <th>9</th>\n",
       "      <td>chr1</td>\n",
       "      <td>173753</td>\n",
       "      <td>173862</td>\n",
       "      <td>77</td>\n",
       "      <td>91</td>\n",
       "      <td>31</td>\n",
       "      <td>85</td>\n",
       "    </tr>\n",
       "  </tbody>\n",
       "</table>\n",
       "</div>"
      ],
      "text/plain": [
       "  chrom   start     end  cell_0  cell_1  cell_2  cell_3\n",
       "0  chr1  141474  143011       6      20      80      49\n",
       "1  chr1  146386  149707      86      82      58      43\n",
       "2  chr1  155767  155831      57       6      13      42\n",
       "3  chr1  164263  164791      95      85      28      14\n",
       "4  chr1  165491  165942      27      25      54      20\n",
       "5  chr1  167129  168165      21      88      31      18\n",
       "6  chr1  168610  168767      29      34      49      52\n",
       "7  chr1  169049  169264      65      27      87      96\n",
       "8  chr1  172557  172688       8      43      78      92\n",
       "9  chr1  173753  173862      77      91      31      85"
      ]
     },
     "execution_count": 227,
     "metadata": {},
     "output_type": "execute_result"
    }
   ],
   "source": [
    "reads_df"
   ]
  },
  {
   "cell_type": "code",
   "execution_count": 228,
   "id": "b76041b1",
   "metadata": {},
   "outputs": [],
   "source": [
    "exon_dfs = [df[df['exon_' + str(i)] > 0].iloc[:,:3].copy() for i in range(len(df.columns)-3)]"
   ]
  },
  {
   "cell_type": "code",
   "execution_count": 229,
   "id": "850ae295",
   "metadata": {},
   "outputs": [],
   "source": [
    "for i in range(len(df.columns)-3):\n",
    "    exon_dfs[i].loc[ :, 'level']=i\n",
    "    exon_dfs[i].loc[ :, 'label']='iso_'+str(i)"
   ]
  },
  {
   "cell_type": "code",
   "execution_count": 230,
   "id": "51812a8e",
   "metadata": {},
   "outputs": [],
   "source": [
    "exons_concat = pd.concat(exon_dfs).reset_index(drop=True)"
   ]
  },
  {
   "cell_type": "code",
   "execution_count": 231,
   "id": "32989e60",
   "metadata": {},
   "outputs": [
    {
     "data": {
      "text/plain": [
       "<matplotlib.collections.LineCollection at 0x7f98d7c38190>"
      ]
     },
     "execution_count": 231,
     "metadata": {},
     "output_type": "execute_result"
    },
    {
     "data": {
      "image/png": "[encoded data removed]",
      "text/plain": [
       "<Figure size 1080x360 with 1 Axes>"
      ]
     },
     "metadata": {
      "needs_background": "light"
     },
     "output_type": "display_data"
    }
   ],
   "source": [
    "xlim = df.iloc[0].start, df.iloc[-1].end\n",
    "vis.plot_intervals(exons_concat, xlim=xlim, levels= exons_concat.level.values, figsize=(15, min(5, 10*len(df.columns)/len(df))), show_coords=True)\n",
    "plt.xlabel('genomic region per kb')\n",
    "y = np.arange(0, len(df.columns)-3)\n",
    "ylabels = ['isoform ' + str(i) for i in y]\n",
    "plt.yticks(ticks=y, labels=ylabels);\n",
    "plt.hlines(y, linestyle ='-.', xmin=xlim[0], xmax=xlim[1])\n",
    "# plt.title(name+' isophorms')"
   ]
  },
  {
   "cell_type": "code",
   "execution_count": 232,
   "id": "28163cb9",
   "metadata": {},
   "outputs": [
    {
     "data": {
      "image/png": "[encoded data removed]",
      "text/plain": [
       "<Figure size 1080x432 with 4 Axes>"
      ]
     },
     "metadata": {
      "needs_background": "light"
     },
     "output_type": "display_data"
    }
   ],
   "source": [
    "plt.figure(figsize=(15, 6))\n",
    "\n",
    "n_types = len(reads_df.columns)-3\n",
    "for i in range(n_types):\n",
    "    plt.subplot(n_types, 1, i+1)\n",
    "    plt.bar((reads_df.start+reads_df.end)/2, reads_df.iloc[:,i+3], width=reads_df.end-reads_df.start)\n",
    "    plt.ylim([0, 100])\n",
    "    plt.margins(0)"
   ]
  },
  {
   "cell_type": "code",
   "execution_count": 233,
   "id": "4a42d688",
   "metadata": {},
   "outputs": [],
   "source": [
    "from EM import EM"
   ]
  },
  {
   "cell_type": "code",
   "execution_count": 239,
   "id": "10343e0e",
   "metadata": {},
   "outputs": [
    {
     "data": {
      "text/plain": [
       "Text(0.5, 0, 'steps')"
      ]
     },
     "execution_count": 239,
     "metadata": {},
     "output_type": "execute_result"
    },
    {
     "data": {
      "image/png": "[encoded data removed]",
      "text/plain": [
       "<Figure size 432x288 with 1 Axes>"
      ]
     },
     "metadata": {
      "needs_background": "light"
     },
     "output_type": "display_data"
    }
   ],
   "source": [
    "for cell in range(n_types):\n",
    "    model = EM(reads=reads_df.iloc[:,cell+3].values, isoforms= df.iloc[:,3:].values)\n",
    "    model.train(steps=20)\n",
    "    plt.plot(model.scores, label='cell '+str(cell))\n",
    "    \n",
    "plt.legend()\n",
    "plt.xlabel('steps')"
   ]
  },
  {
   "cell_type": "code",
   "execution_count": 235,
   "id": "61757636",
   "metadata": {},
   "outputs": [
    {
     "data": {
      "text/plain": [
       "<matplotlib.colorbar.Colorbar at 0x7f98d6deb760>"
      ]
     },
     "execution_count": 235,
     "metadata": {},
     "output_type": "execute_result"
    },
    {
     "data": {
      "image/png": "[encoded data removed]",
      "text/plain": [
       "<Figure size 432x288 with 2 Axes>"
      ]
     },
     "metadata": {
      "needs_background": "light"
     },
     "output_type": "display_data"
    }
   ],
   "source": [
    "plt.imshow(model.O[::-1], cmap='ocean_r', vmin=0, vmax=450)\n",
    "plt.colorbar()"
   ]
  },
  {
   "cell_type": "code",
   "execution_count": 236,
   "id": "7a3827a5",
   "metadata": {},
   "outputs": [
    {
     "data": {
      "text/plain": [
       "<matplotlib.colorbar.Colorbar at 0x7f98d6f5ef70>"
      ]
     },
     "execution_count": 236,
     "metadata": {},
     "output_type": "execute_result"
    },
    {
     "data": {
      "image/png": "[encoded data removed]",
      "text/plain": [
       "<Figure size 432x288 with 2 Axes>"
      ]
     },
     "metadata": {
      "needs_background": "light"
     },
     "output_type": "display_data"
    }
   ],
   "source": [
    "abundances = []\n",
    "for cell in range(n_types):\n",
    "    model = EM(reads=reads_df.iloc[:,cell+3].values, isoforms= df.iloc[:,3:].values)\n",
    "    model.train(steps=20)\n",
    "    abundances.append(model.O[::-1].reshape(-1))\n",
    "\n",
    "abundances = np.stack(abundances)\n",
    "plt.imshow(abundances.T, cmap='ocean_r', vmin=0, vmax=450)\n",
    "yticks = np.arange(0,abundances.shape[1])\n",
    "xticks = np.arange(0, abundances.shape[0])\n",
    "plt.yticks(ticks=yticks, labels = yticks[::-1])\n",
    "plt.xticks(ticks=xticks, labels = xticks+1)\n",
    "plt.colorbar()"
   ]
  },
  {
   "cell_type": "code",
   "execution_count": 205,
   "id": "f1ba45ef",
   "metadata": {},
   "outputs": [
    {
     "data": {
      "text/plain": [
       "array([[1.12776531e-12, 3.23498839e+01, 2.13299508e-10, 4.31186909e+02,\n",
       "        7.46320666e+00],\n",
       "       [1.02741502e-10, 4.45659738e+01, 5.12018778e-09, 4.32054082e+02,\n",
       "        2.43799438e+01],\n",
       "       [1.54843409e-08, 6.15419317e+01, 1.53139146e-05, 3.55544060e+02,\n",
       "        9.19139925e+01],\n",
       "       [1.16746202e-09, 5.67173752e+01, 2.22512281e-08, 4.00159627e+02,\n",
       "        5.41229978e+01]])"
      ]
     },
     "execution_count": 205,
     "metadata": {},
     "output_type": "execute_result"
    }
   ],
   "source": [
    "abundances"
   ]
  },
  {
   "cell_type": "code",
   "execution_count": null,
   "id": "1f411824",
   "metadata": {},
   "outputs": [],
   "source": []
  }
 ],
 "metadata": {
  "kernelspec": {
   "display_name": "Python 3 (ipykernel)",
   "language": "python",
   "name": "python3"
  },
  "language_info": {
   "codemirror_mode": {
    "name": "ipython",
    "version": 3
   },
   "file_extension": ".py",
   "mimetype": "text/x-python",
   "name": "python",
   "nbconvert_exporter": "python",
   "pygments_lexer": "ipython3",
   "version": "3.8.11"
  }
 },
 "nbformat": 4,
 "nbformat_minor": 5
}
