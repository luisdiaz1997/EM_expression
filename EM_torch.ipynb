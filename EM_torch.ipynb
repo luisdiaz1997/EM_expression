{
  "nbformat": 4,
  "nbformat_minor": 0,
  "metadata": {
    "colab": {
      "name": "EM_torch.ipynb",
      "provenance": [],
      "collapsed_sections": [],
      "authorship_tag": "ABX9TyMhrwMv1g4FjvF8hQ3BA0as",
      "include_colab_link": true
    },
    "kernelspec": {
      "name": "python3",
      "display_name": "Python 3"
    },
    "language_info": {
      "name": "python"
    }
  },
  "cells": [
    {
      "cell_type": "markdown",
      "metadata": {
        "id": "view-in-github",
        "colab_type": "text"
      },
      "source": [
        "<a href=\"https://colab.research.google.com/github/luisdiaz1997/EM_expression/blob/main/EM_torch.ipynb\" target=\"_parent\"><img src=\"https://colab.research.google.com/assets/colab-badge.svg\" alt=\"Open In Colab\"/></a>"
      ]
    },
    {
      "cell_type": "code",
      "metadata": {
        "id": "t1PBLJeCLcvU"
      },
      "source": [
        "import numpy as np\n",
        "import matplotlib.pyplot as plt\n",
        "import torch\n",
        "from tqdm import tqdm"
      ],
      "execution_count": 165,
      "outputs": []
    },
    {
      "cell_type": "code",
      "metadata": {
        "id": "LYdwBBeMLs_2"
      },
      "source": [
        " n = 6\n",
        " O = torch.ones((n, 1), requires_grad=True)"
      ],
      "execution_count": 206,
      "outputs": []
    },
    {
      "cell_type": "code",
      "metadata": {
        "colab": {
          "base_uri": "https://localhost:8080/"
        },
        "id": "96uhCm8FMPeR",
        "outputId": "6068d767-6134-4ec7-96cc-4414a7d1c244"
      },
      "source": [
        "O"
      ],
      "execution_count": 172,
      "outputs": [
        {
          "output_type": "execute_result",
          "data": {
            "text/plain": [
              "tensor([[1.],\n",
              "        [1.],\n",
              "        [1.],\n",
              "        [1.],\n",
              "        [1.],\n",
              "        [1.]], requires_grad=True)"
            ]
          },
          "metadata": {},
          "execution_count": 172
        }
      ]
    },
    {
      "cell_type": "code",
      "metadata": {
        "id": "rkJV18WzMPyd",
        "colab": {
          "base_uri": "https://localhost:8080/"
        },
        "outputId": "06c6a79c-1f64-4152-f589-c2110fc8d940"
      },
      "source": [
        "C = torch.Tensor([123, 64, 2])[None,:]\n",
        "C"
      ],
      "execution_count": 173,
      "outputs": [
        {
          "output_type": "execute_result",
          "data": {
            "text/plain": [
              "tensor([[123.,  64.,   2.]])"
            ]
          },
          "metadata": {},
          "execution_count": 173
        }
      ]
    },
    {
      "cell_type": "code",
      "metadata": {
        "id": "0RafV7IdMrf7",
        "colab": {
          "base_uri": "https://localhost:8080/"
        },
        "outputId": "c9e893b2-51c4-4b01-90f2-7f386b303f8b"
      },
      "source": [
        "A = torch.Tensor([[0, 0, 1],\n",
        "              [0, 1, 0],\n",
        "              [1, 0, 0],\n",
        "              [1, 1, 0],\n",
        "              [0, 1, 1], \n",
        "              [1, 0, 1]])\n",
        "A"
      ],
      "execution_count": 174,
      "outputs": [
        {
          "output_type": "execute_result",
          "data": {
            "text/plain": [
              "tensor([[0., 0., 1.],\n",
              "        [0., 1., 0.],\n",
              "        [1., 0., 0.],\n",
              "        [1., 1., 0.],\n",
              "        [0., 1., 1.],\n",
              "        [1., 0., 1.]])"
            ]
          },
          "metadata": {},
          "execution_count": 174
        }
      ]
    },
    {
      "cell_type": "code",
      "metadata": {
        "id": "M99f_vHQUPTE"
      },
      "source": [
        "def log_prob(O, C, A):\n",
        "  return torch.matmul(C, torch.matmul(A.T, O)) - torch.sum(torch.matmul(A.T, O))"
      ],
      "execution_count": 175,
      "outputs": []
    },
    {
      "cell_type": "code",
      "metadata": {
        "id": "V3z-7txQPEOn"
      },
      "source": [
        "J = -log_prob(O, C, A)"
      ],
      "execution_count": 176,
      "outputs": []
    },
    {
      "cell_type": "code",
      "metadata": {
        "id": "lm98MyRLUb3i"
      },
      "source": [
        "def train(O, C, A, steps=1000):\n",
        "  learning_rate = 1e-3\n",
        "  losses = []\n",
        "  for i in tqdm(range(steps)):\n",
        "    J = -log_prob(O, C, A) + (O**2).sum()\n",
        "    losses.append(J[0].detach().numpy())\n",
        "    J.backward()\n",
        "    with torch.no_grad():\n",
        "      O -= learning_rate * O.grad\n",
        "      O.grad.zero_()\n",
        "  return np.array(losses)"
      ],
      "execution_count": 203,
      "outputs": []
    },
    {
      "cell_type": "code",
      "metadata": {
        "colab": {
          "base_uri": "https://localhost:8080/"
        },
        "id": "yRxVA13RUR_r",
        "outputId": "70af551f-a686-472d-da17-2eedfb56424f"
      },
      "source": [
        " O = torch.ones((n, 1), requires_grad=True)\n",
        "losses=  train(O, C, A, steps=2000)"
      ],
      "execution_count": 215,
      "outputs": [
        {
          "output_type": "stream",
          "name": "stderr",
          "text": [
            "100%|██████████| 2000/2000 [00:00<00:00, 4981.67it/s]\n"
          ]
        }
      ]
    },
    {
      "cell_type": "code",
      "metadata": {
        "id": "jaV4-w1d94IN",
        "colab": {
          "base_uri": "https://localhost:8080/",
          "height": 282
        },
        "outputId": "2390d5fd-62a7-49ea-ac49-db5bbd53fe24"
      },
      "source": [
        "plt.plot(-losses)"
      ],
      "execution_count": 216,
      "outputs": [
        {
          "output_type": "execute_result",
          "data": {
            "text/plain": [
              "[<matplotlib.lines.Line2D at 0x7f494c10c410>]"
            ]
          },
          "metadata": {},
          "execution_count": 216
        },
        {
          "output_type": "display_data",
          "data": {
            "image/png": "[encoded data removed]",
            "text/plain": [
              "<Figure size 432x288 with 1 Axes>"
            ]
          },
          "metadata": {
            "needs_background": "light"
          }
        }
      ]
    },
    {
      "cell_type": "code",
      "metadata": {
        "id": "T0cyvvNKdHBe"
      },
      "source": [
        "def expected(O, C, A):\n",
        "  return torch.matmul(O, C) * A/torch.matmul(O.T, A)"
      ],
      "execution_count": 219,
      "outputs": []
    },
    {
      "cell_type": "code",
      "metadata": {
        "colab": {
          "base_uri": "https://localhost:8080/"
        },
        "id": "PuqsUX-_DvQ9",
        "outputId": "1a70eccf-338b-46f5-f115-819c2e480d3e"
      },
      "source": [
        "np.round(expected(O, C, A).sum(axis=1, keepdims=True).detach().numpy(), 1)"
      ],
      "execution_count": 238,
      "outputs": [
        {
          "output_type": "execute_result",
          "data": {
            "text/plain": [
              "array([[ 0. ],\n",
              "       [12.9],\n",
              "       [34.9],\n",
              "       [90.9],\n",
              "       [13.8],\n",
              "       [36.5]], dtype=float32)"
            ]
          },
          "metadata": {},
          "execution_count": 238
        }
      ]
    },
    {
      "cell_type": "code",
      "metadata": {
        "colab": {
          "base_uri": "https://localhost:8080/"
        },
        "id": "wiaH_KHPEVUf",
        "outputId": "46599a92-410c-403d-ff32-6cf05b9b8410"
      },
      "source": [
        "O"
      ],
      "execution_count": 239,
      "outputs": [
        {
          "output_type": "execute_result",
          "data": {
            "text/plain": [
              "tensor([[ 0.5091],\n",
              "        [30.9436],\n",
              "        [59.9054],\n",
              "        [90.8308],\n",
              "        [31.4345],\n",
              "        [60.3963]], requires_grad=True)"
            ]
          },
          "metadata": {},
          "execution_count": 239
        }
      ]
    },
    {
      "cell_type": "code",
      "metadata": {
        "id": "9mg6zj4BEaHi"
      },
      "source": [
        ""
      ],
      "execution_count": null,
      "outputs": []
    }
  ]
}