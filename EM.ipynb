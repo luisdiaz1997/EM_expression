{
 "cells": [
  {
   "cell_type": "markdown",
   "metadata": {
    "colab_type": "text",
    "id": "view-in-github"
   },
   "source": [
    "<a href=\"https://colab.research.google.com/github/luisdiaz1997/EM_expression/blob/main/EM.ipynb\" target=\"_parent\"><img src=\"https://colab.research.google.com/assets/colab-badge.svg\" alt=\"Open In Colab\"/></a>"
   ]
  },
  {
   "cell_type": "code",
   "execution_count": null,
   "metadata": {
    "id": "t1PBLJeCLcvU"
   },
   "outputs": [],
   "source": [
    "import numpy as np\n",
    "import matplotlib.pyplot as plt"
   ]
  },
  {
   "cell_type": "code",
   "execution_count": null,
   "metadata": {
    "id": "LYdwBBeMLs_2"
   },
   "outputs": [],
   "source": [
    " n = 6\n",
    " O = np.ones(n)[:, None]"
   ]
  },
  {
   "cell_type": "code",
   "execution_count": null,
   "metadata": {
    "colab": {
     "base_uri": "https://localhost:8080/"
    },
    "id": "96uhCm8FMPeR",
    "outputId": "dae82b2c-f3d8-49dd-a9f9-1103bf5dc610"
   },
   "outputs": [
    {
     "data": {
      "text/plain": [
       "array([[1.],\n",
       "       [1.],\n",
       "       [1.],\n",
       "       [1.],\n",
       "       [1.],\n",
       "       [1.]])"
      ]
     },
     "execution_count": 103,
     "metadata": {},
     "output_type": "execute_result"
    }
   ],
   "source": [
    "O"
   ]
  },
  {
   "cell_type": "code",
   "execution_count": null,
   "metadata": {
    "colab": {
     "base_uri": "https://localhost:8080/"
    },
    "id": "rkJV18WzMPyd",
    "outputId": "b681ce27-3b4b-46a8-a74b-987fe2dff686"
   },
   "outputs": [
    {
     "data": {
      "text/plain": [
       "array([[123,  64,   2]])"
      ]
     },
     "execution_count": 189,
     "metadata": {},
     "output_type": "execute_result"
    }
   ],
   "source": [
    "C = np.array([123, 64, 2])[None,:]\n",
    "C"
   ]
  },
  {
   "cell_type": "code",
   "execution_count": null,
   "metadata": {
    "colab": {
     "base_uri": "https://localhost:8080/"
    },
    "id": "0RafV7IdMrf7",
    "outputId": "a8a67267-4b1a-4695-c136-ac80606b55c6"
   },
   "outputs": [
    {
     "data": {
      "text/plain": [
       "array([[0, 0, 1],\n",
       "       [0, 1, 0],\n",
       "       [1, 0, 0],\n",
       "       [1, 1, 0],\n",
       "       [0, 1, 1],\n",
       "       [1, 0, 1]])"
      ]
     },
     "execution_count": 190,
     "metadata": {},
     "output_type": "execute_result"
    }
   ],
   "source": [
    "A = np.array([[0, 0, 1],\n",
    "              [0, 1, 0],\n",
    "              [1, 0, 0],\n",
    "              [1, 1, 0],\n",
    "              [0, 1, 1], \n",
    "              [1, 0, 1]])\n",
    "A"
   ]
  },
  {
   "cell_type": "code",
   "execution_count": null,
   "metadata": {
    "id": "M99f_vHQUPTE"
   },
   "outputs": [],
   "source": []
  },
  {
   "cell_type": "code",
   "execution_count": null,
   "metadata": {
    "colab": {
     "base_uri": "https://localhost:8080/"
    },
    "id": "V3z-7txQPEOn",
    "outputId": "852644ee-deef-45cf-9f18-f62bf3564dd4"
   },
   "outputs": [
    {
     "data": {
      "text/plain": [
       "array([[3.01842095e-03, 1.57056049e-03, 4.90800154e-05],\n",
       "       [1.24510301e-77, 6.47858475e-78, 2.02455774e-79],\n",
       "       [7.86832784e-76, 4.09408928e-76, 1.27940290e-77],\n",
       "       [1.51649208e-46, 7.89069048e-47, 2.46584078e-48],\n",
       "       [5.09785668e+04, 2.65254331e+04, 8.28919785e+02],\n",
       "       [9.79744302e+04, 5.09785653e+04, 1.59308017e+03]])"
      ]
     },
     "execution_count": 191,
     "metadata": {},
     "output_type": "execute_result"
    }
   ],
   "source": [
    "np.dot(O, C)"
   ]
  },
  {
   "cell_type": "code",
   "execution_count": null,
   "metadata": {
    "id": "6-8sGFdwFYzH"
   },
   "outputs": [],
   "source": [
    "def expected(O, C, A):\n",
    "  return np.dot(O, C) * A/np.dot(O.T, A)"
   ]
  },
  {
   "cell_type": "code",
   "execution_count": null,
   "metadata": {
    "id": "VUxXr8rUEC_L"
   },
   "outputs": [],
   "source": [
    "N = expected(O, C, A)"
   ]
  },
  {
   "cell_type": "code",
   "execution_count": null,
   "metadata": {
    "colab": {
     "base_uri": "https://localhost:8080/"
    },
    "id": "lm98MyRLUb3i",
    "outputId": "1fca4833-c349-4f93-a716-d22b73585650"
   },
   "outputs": [
    {
     "data": {
      "text/plain": [
       "array([[0.00000000e+00, 0.00000000e+00, 4.05285016e-08],\n",
       "       [0.00000000e+00, 1.56313913e-80, 0.00000000e+00],\n",
       "       [9.87813169e-79, 0.00000000e+00, 0.00000000e+00],\n",
       "       [1.90384905e-49, 1.90384899e-49, 0.00000000e+00],\n",
       "       [0.00000000e+00, 6.40000000e+01, 6.84491978e-01],\n",
       "       [1.23000000e+02, 0.00000000e+00, 1.31550798e+00]])"
      ]
     },
     "execution_count": 194,
     "metadata": {},
     "output_type": "execute_result"
    }
   ],
   "source": [
    "N"
   ]
  },
  {
   "cell_type": "code",
   "execution_count": null,
   "metadata": {
    "colab": {
     "base_uri": "https://localhost:8080/"
    },
    "id": "yRxVA13RUR_r",
    "outputId": "9c6faf64-fc7a-431f-d8c9-b4f3ecbf238f"
   },
   "outputs": [
    {
     "data": {
      "text/plain": [
       "array([[4.05285016e-08],\n",
       "       [1.56313913e-80],\n",
       "       [9.87813169e-79],\n",
       "       [3.80769804e-49],\n",
       "       [6.46844920e+01],\n",
       "       [1.24315508e+02]])"
      ]
     },
     "execution_count": 195,
     "metadata": {},
     "output_type": "execute_result"
    }
   ],
   "source": [
    "N.sum(axis=1, keepdims=True)"
   ]
  },
  {
   "cell_type": "code",
   "execution_count": null,
   "metadata": {
    "id": "jaV4-w1d94IN"
   },
   "outputs": [],
   "source": [
    "def maxim(expected_m):\n",
    "  return np.sum(expected_m, axis=1, keepdims=True)"
   ]
  },
  {
   "cell_type": "code",
   "execution_count": null,
   "metadata": {
    "colab": {
     "base_uri": "https://localhost:8080/"
    },
    "id": "0FMSDdk9-Tg9",
    "outputId": "f40f244f-1afb-4c63-a58b-ce2e19e586fc"
   },
   "outputs": [
    {
     "data": {
      "text/plain": [
       "array([[4.05285016e-08],\n",
       "       [1.56313913e-80],\n",
       "       [9.87813169e-79],\n",
       "       [3.80769804e-49],\n",
       "       [6.46844920e+01],\n",
       "       [1.24315508e+02]])"
      ]
     },
     "execution_count": 197,
     "metadata": {},
     "output_type": "execute_result"
    }
   ],
   "source": [
    "maxim(expected(O, C, A))"
   ]
  },
  {
   "cell_type": "code",
   "execution_count": null,
   "metadata": {
    "id": "bgN7Ppmc-hOo"
   },
   "outputs": [],
   "source": [
    "def em_step(O, C, A):\n",
    "  expected_m = expected(O, C, A)\n",
    "  O = maxim(expected_m)\n",
    "  return O"
   ]
  },
  {
   "cell_type": "code",
   "execution_count": null,
   "metadata": {
    "id": "cFuHofiLU4sX"
   },
   "outputs": [],
   "source": [
    "def log_prob(O, C, A):\n",
    "  return np.dot(C, np.dot(A.T, O)) - sum(np.dot(A.T, O))"
   ]
  },
  {
   "cell_type": "code",
   "execution_count": null,
   "metadata": {
    "id": "1dMJU9qZ-w_b"
   },
   "outputs": [],
   "source": [
    "n=6\n",
    "O = np.ones(n)[:,None]\n",
    "scores = []\n",
    "scores.append(log_prob(O, C, A)[0])\n",
    "iterations = 10\n",
    "for i in range(iterations):\n",
    "  O = em_step(O, C, A)\n",
    "  scores.append(log_prob(O, C, A)[0])"
   ]
  },
  {
   "cell_type": "code",
   "execution_count": null,
   "metadata": {
    "colab": {
     "base_uri": "https://localhost:8080/",
     "height": 282
    },
    "id": "tprSNxBW-710",
    "outputId": "e8c67d14-c6ee-4614-e2a7-00e00bec5789"
   },
   "outputs": [
    {
     "data": {
      "text/plain": [
       "[<matplotlib.lines.Line2D at 0x7f7dd0444dd0>]"
      ]
     },
     "execution_count": 210,
     "metadata": {},
     "output_type": "execute_result"
    },
    {
     "data": {
      "image/png": "[encoded data removed]",
      "text/plain": [
       "<Figure size 432x288 with 1 Axes>"
      ]
     },
     "metadata": {
      "needs_background": "light"
     },
     "output_type": "display_data"
    }
   ],
   "source": [
    "plt.plot(np.arange(0, iterations+1), scores)"
   ]
  },
  {
   "cell_type": "code",
   "execution_count": null,
   "metadata": {
    "colab": {
     "base_uri": "https://localhost:8080/"
    },
    "id": "kwix7TC0V3oc",
    "outputId": "55b39515-b460-4b65-a019-9220819e526b"
   },
   "outputs": [
    {
     "data": {
      "text/plain": [
       "array([[  0.],\n",
       "       [  0.],\n",
       "       [  2.],\n",
       "       [180.],\n",
       "       [  0.],\n",
       "       [  7.]])"
      ]
     },
     "execution_count": 216,
     "metadata": {},
     "output_type": "execute_result"
    }
   ],
   "source": [
    "np.round(O,0)"
   ]
  },
  {
   "cell_type": "code",
   "execution_count": null,
   "metadata": {
    "colab": {
     "base_uri": "https://localhost:8080/"
    },
    "id": "u2Q2dEU6bsSJ",
    "outputId": "e809442d-889a-4d90-ce38-9336813d941b"
   },
   "outputs": [
    {
     "data": {
      "text/plain": [
       "array([[  0.,   0.,   0.],\n",
       "       [  0.,   0.,   0.],\n",
       "       [  1.,   0.,   0.],\n",
       "       [118.,  64.,   0.],\n",
       "       [  0.,   0.,   0.],\n",
       "       [  4.,   0.,   2.]])"
      ]
     },
     "execution_count": 218,
     "metadata": {},
     "output_type": "execute_result"
    }
   ],
   "source": [
    "np.round(expected(O, C, A))"
   ]
  },
  {
   "cell_type": "code",
   "execution_count": null,
   "metadata": {
    "id": "T0cyvvNKdHBe"
   },
   "outputs": [],
   "source": []
  }
 ],
 "metadata": {
  "colab": {
   "authorship_tag": "ABX9TyMhWbwxEBgWX9tyNRR+xuPw",
   "collapsed_sections": [],
   "include_colab_link": true,
   "name": "EM.ipynb",
   "provenance": []
  },
  "kernelspec": {
   "display_name": "Python 3 (ipykernel)",
   "language": "python",
   "name": "python3"
  },
  "language_info": {
   "codemirror_mode": {
    "name": "ipython",
    "version": 3
   },
   "file_extension": ".py",
   "mimetype": "text/x-python",
   "name": "python",
   "nbconvert_exporter": "python",
   "pygments_lexer": "ipython3",
   "version": "3.8.11"
  }
 },
 "nbformat": 4,
 "nbformat_minor": 1
}
